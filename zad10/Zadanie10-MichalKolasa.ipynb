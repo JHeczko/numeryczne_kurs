{
 "cells": [
  {
   "cell_type": "markdown",
   "id": "fee7bb2e",
   "metadata": {},
   "source": [
    "# Zadanie numeryczne 10\n",
    "*Michał Kolasa, Metody numeryczne gr.5*"
   ]
  },
  {
   "cell_type": "markdown",
   "id": "a926af63",
   "metadata": {},
   "source": [
    "## Zadany problem:\n",
    "Zadanie polegało na znalezieniu rozwiązań równania charakterystycznego macierzy $\\displaystyle A$ danego wzorem $\\displaystyle det(A-\\lambda\\mathbb 1)$, gdzie $\\displaystyle A$ to macierz:"
   ]
  },
  {
   "cell_type": "markdown",
   "id": "755e0eb3",
   "metadata": {},
   "source": [
    "\\begin{equation}\n",
    "A=\n",
    "\\begin{bmatrix}\n",
    "4 & -1 & 0\\\\\n",
    "-1 & 4 & -1\\\\\n",
    "0 & -1 & 4\n",
    "\\end{bmatrix}\n",
    "\\end{equation}"
   ]
  },
  {
   "cell_type": "markdown",
   "id": "aed7d840",
   "metadata": {},
   "source": [
    "\\begin{equation}\n",
    "det\n",
    "\\begin{vmatrix}\n",
    "4-\\lambda & -1 & 0\\\\\n",
    "-1 & 4-\\lambda & -1\\\\\n",
    "0 & -1 & 4-\\lambda\n",
    "\\end{vmatrix}\n",
    "= -\\lambda^{3}+12\\lambda^{2}-46\\lambda+56\n",
    "\\end{equation}"
   ]
  },
  {
   "cell_type": "markdown",
   "id": "b707faeb",
   "metadata": {},
   "source": [
    "Z tego otrzymujemy funkcję:\n",
    "$\\newline\\displaystyle f(\\lambda)=-\\lambda^{3}+12\\lambda^{2}-46\\lambda+56$ Dalej będę poszukiwał jej miejsc zerowych za pomocą trzech wybranych metod t.j.:\n",
    "* bisekcji,\n",
    "* regula falsi,\n",
    "* metody siecznych."
   ]
  },
  {
   "cell_type": "markdown",
   "id": "eb548feb",
   "metadata": {},
   "source": [
    "W celu dobrania odpowiednich przedziałów poszukiwania, tworzę wykres funkcji $\\displaystyle f(\\lambda)$. Wiemy, że wielomian trzeciego stopnia może mieć maksymalnie trzy miejsca zerowe, dlatego potrzebujemy maksymalnie trzech przedziałów poszukiwania, w których nasza funkcja zmienia znak. Interesujący nas fragment wykresu zamieszczam poniżej."
   ]
  },
  {
   "attachments": {
    "wykresn10.png": {
     "image/png": "[encoded data removed]"
    }
   },
   "cell_type": "markdown",
   "id": "642854bd",
   "metadata": {},
   "source": [
    "![wykresn10.png](attachment:wykresn10.png)"
   ]
  },
  {
   "cell_type": "markdown",
   "id": "f40ffbc0",
   "metadata": {},
   "source": [
    "Możemy przy jego pomocy zobaczyć przybliżoną lokalizację miejsc zerowych i wprowadzić następujące przedziały ich poszukiwania, na których co ważne nasza funkcja jest **ciągła**:\n",
    "* $\\displaystyle [0, 3]$\n",
    "* $\\displaystyle [3.1, 5]$\n",
    "* $\\displaystyle [5.1, 7]$"
   ]
  },
  {
   "cell_type": "markdown",
   "id": "a8bf1c82",
   "metadata": {},
   "source": [
    "Do iplementacji poszczególnych metod, stosuję język **Python**."
   ]
  },
  {
   "cell_type": "code",
   "execution_count": 5,
   "id": "7ee71c66",
   "metadata": {},
   "outputs": [],
   "source": [
    "import math\n",
    "\n",
    "def funkcja(x):\n",
    "    return -x*x*x + 12*x*x - 46*x + 56\n",
    "\n",
    "\n",
    "epsilon = 1e-8\n",
    "\n",
    "# Przedział 1\n",
    "a = 0\n",
    "b = 3\n",
    "# Przedział 2\n",
    "c = 3.1\n",
    "d = 4.5\n",
    "# Przedział 3\n",
    "e = 4.6\n",
    "f = 6"
   ]
  },
  {
   "cell_type": "markdown",
   "id": "6fa434fb",
   "metadata": {},
   "source": [
    "## Metoda bisekcji:\n",
    "W tej metodzie za pierwsze przybliżenie miejsca zerowego, bierzemy krańce przedziału $\\displaystyle x_1$ oraz $\\displaystyle x_2$, dalej $\\displaystyle x_3 = \\frac{x_1+x_2}{2}$. Następnie ustalamy, w którym z przedziałów $\\displaystyle [x_1,x_3]$, $\\displaystyle [x_3,x_2]$ funkcja zmienia znak, powtarzając całą procedurę dla tego przedziału. Za warunek końcowy przyjmujemy $\\displaystyle |x_{n+1}-x_{n}| <= \\epsilon$, innymi słowy zakończymy kiedy odległość pomiędzy dwoma przybliżeniami miejsca zerowego będzie mniejsza, bądź równa zadanej dokładności."
   ]
  },
  {
   "cell_type": "code",
   "execution_count": 6,
   "id": "64cb7f1a",
   "metadata": {},
   "outputs": [
    {
     "name": "stdout",
     "output_type": "stream",
     "text": [
      "Miejsce zerowe:  2.585786433890462\n",
      "Liczba iteracji:  29\n",
      "Miejsce zerowe:  4.00000000372529\n",
      "Liczba iteracji:  28\n",
      "Miejsce zerowe:  5.414213567227124\n",
      "Liczba iteracji:  28\n"
     ]
    }
   ],
   "source": [
    "def bisekcja(x_1,x_2):\n",
    "    przyblizenie = x_1\n",
    "    iteracje = 0\n",
    "    \n",
    "    while (math.fabs(x_2 - x_1)) >= epsilon:\n",
    "        \n",
    "        przyblizenie = (x_1 + x_2) / 2\n",
    "        \n",
    "        if (funkcja(przyblizenie) * funkcja(x_1) < 0):\n",
    "            x_2 = przyblizenie\n",
    "        else:\n",
    "            x_1 = przyblizenie\n",
    "            \n",
    "        iteracje += 1\n",
    "        \n",
    "    print(\"Miejsce zerowe: \", przyblizenie)\n",
    "    print(\"Liczba iteracji: \", iteracje)\n",
    "    \n",
    "    \n",
    "bisekcja(a,b) #[0,3]\n",
    "bisekcja(c,d) #[3.1, 4.5]\n",
    "bisekcja(e,f) #[4.6, 6]"
   ]
  },
  {
   "cell_type": "markdown",
   "id": "2ff7dd1e",
   "metadata": {},
   "source": [
    "## Metoda *regula falsi*:"
   ]
  },
  {
   "cell_type": "markdown",
   "id": "08d81601",
   "metadata": {},
   "source": [
    "Tutaj jako przybliżenie miejsca zerowego bierzemy punkt przecięcia siecznej przechodzącej przez punkty $\\displaystyle (x_1,f(x_1))$, $\\displaystyle (x_2,f(x_2))$ z osią $\\displaystyle OX$ dany wzorem:\n",
    "$\\newline\\displaystyle x_3 = \\frac{f(x_1)x_2 - f(x_2)x_1}{f(x_1)-f(x_2)}$ Dalej postępujemy analogicznie jak w metodzie bisekcji, wybierając ten z przedziałów $\\displaystyle [x_1,x_3]$, $\\displaystyle [x_3,x_2]$, w którym funkcja zmienia znak i powtarzamy całość do momentu uzyskania zadanej dokładności (korzystając z tej samej różnicy co przy metodzie bisekcji)."
   ]
  },
  {
   "cell_type": "code",
   "execution_count": 7,
   "id": "8498d540",
   "metadata": {},
   "outputs": [
    {
     "name": "stdout",
     "output_type": "stream",
     "text": [
      "Miejsce zerowe:  2.585786437626908\n",
      "Liczba iteracji:  162\n",
      "Miejsce zerowe:  3.9999999999999796\n",
      "Liczba iteracji:  7\n",
      "Miejsce zerowe:  5.414213562373098\n",
      "Liczba iteracji:  38\n"
     ]
    }
   ],
   "source": [
    "def regula_falsi(x_1,x_2):\n",
    "    przyblizenie = x_1\n",
    "    iteracje = 0\n",
    "    \n",
    "    while (math.fabs(x_2 - x_1) >= epsilon):\n",
    "        \n",
    "        przyblizenie = (funkcja(x_1)*x_2 - funkcja(x_2)*x_1) / (funkcja(x_1) - funkcja(x_2))\n",
    "        \n",
    "        if (funkcja(przyblizenie) * funkcja(x_1) < 0):\n",
    "            x_2 = przyblizenie\n",
    "        else:\n",
    "            x_1 = przyblizenie\n",
    "            \n",
    "        iteracje += 1\n",
    "        \n",
    "    print(\"Miejsce zerowe: \", przyblizenie)\n",
    "    print(\"Liczba iteracji: \", iteracje)\n",
    "    \n",
    "    \n",
    "regula_falsi(a,b) #[0,3]\n",
    "regula_falsi(c,d) #[3.1, 4.5]\n",
    "regula_falsi(e,f) #[4.6, 6]"
   ]
  },
  {
   "cell_type": "markdown",
   "id": "8761a372",
   "metadata": {},
   "source": [
    "## Metoda siecznych:"
   ]
  },
  {
   "cell_type": "markdown",
   "id": "b6840d5d",
   "metadata": {},
   "source": [
    "Przy tej metodzie nie jest wymagane aby nasza funkcja zmieniała znak w zadanym przedziale poszukiwania miejsca zerowego, wymagane jest jedynie aby dla przedziału $\\displaystyle [x_1,x_2]$; $\\displaystyle f(x_1) \\neq f(x_2)$. Dalej przez punkty $\\displaystyle x_1$, $\\displaystyle x_2$ prowadzimy sieczną i bierzemy jej miejsce zerowe dane tym samym wzorem, z którego korzystałem w metodzie *regula falsi*. Tutaj jednak w kolejnych krokach bierzemy zawsze dwa ostatnie punkty, **bez względu na to czy funkcja zmienia znak**, w przeciwieństwie do metody *regula falsi*. Czynność powtarzmy do momentu uzyskania zadanej dokładności."
   ]
  },
  {
   "cell_type": "code",
   "execution_count": 8,
   "id": "c9a87d29",
   "metadata": {},
   "outputs": [
    {
     "name": "stdout",
     "output_type": "stream",
     "text": [
      "Miejsce zerowe:  2.5857864376269712\n",
      "Liczba iteracji:  9\n",
      "Miejsce zerowe:  3.999999999999994\n",
      "Liczba iteracji:  5\n",
      "Miejsce zerowe:  5.414213562373052\n",
      "Liczba iteracji:  10\n"
     ]
    }
   ],
   "source": [
    "def metoda_siecznych(x_1, x_2):\n",
    "    przyblizenie = x_1\n",
    "    iteracje = 0\n",
    "\n",
    "    while (math.fabs(x_2 - x_1) >= epsilon):\n",
    "\n",
    "        przyblizenie = (funkcja(x_1) * x_2 - funkcja(x_2) * x_1) / (funkcja(x_1) - funkcja(x_2))\n",
    "\n",
    "        x_1 = x_2\n",
    "        x_2 = przyblizenie\n",
    "\n",
    "        iteracje += 1\n",
    "\n",
    "    print(\"Miejsce zerowe: \", przyblizenie)\n",
    "    print(\"Liczba iteracji: \", iteracje)\n",
    "\n",
    "metoda_siecznych(a, b)  # [0,3]\n",
    "metoda_siecznych(c, d)  # [3.1, 5]\n",
    "metoda_siecznych(e, f)  # [5.1, 7]"
   ]
  },
  {
   "cell_type": "markdown",
   "id": "9d15e0b6",
   "metadata": {},
   "source": [
    "## Podsumowanie - najszybsza metoda:\n",
    "Zdecydowanie najszybsza okazała się **metoda siecznych**, w **metodzie regula falsi** bardzo wiele zależy od przedziału poszukiwania bowiem w przedziale 2 i 3 była ona szybsza od metody **bisekcji**, z kolei dla przedziału 1 potrzebowała aż 162 iteracji. Należy również pamiętać o ograniczeniach poszczególnych metod, bowiem **metoda bisekji** nie działa dla miejsc zerowych o parzystej krotności, z kolei **metoda siecznych** w niektórych przypadkach może nie być zbieżna."
   ]
  }
 ],
 "metadata": {
  "kernelspec": {
   "display_name": "Python 3 (ipykernel)",
   "language": "python",
   "name": "python3"
  },
  "language_info": {
   "codemirror_mode": {
    "name": "ipython",
    "version": 3
   },
   "file_extension": ".py",
   "mimetype": "text/x-python",
   "name": "python",
   "nbconvert_exporter": "python",
   "pygments_lexer": "ipython3",
   "version": "3.11.5"
  }
 },
 "nbformat": 4,
 "nbformat_minor": 5
}
